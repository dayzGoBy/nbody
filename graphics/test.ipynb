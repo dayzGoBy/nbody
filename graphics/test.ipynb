{
 "cells": [
  {
   "cell_type": "code",
   "execution_count": 3,
   "metadata": {},
   "outputs": [
    {
     "name": "stdout",
     "output_type": "stream",
     "text": [
      "d:\\Repositories\\other\n"
     ]
    }
   ],
   "source": [
    "%cd .."
   ]
  },
  {
   "cell_type": "code",
   "execution_count": 22,
   "metadata": {},
   "outputs": [
    {
     "data": {
      "text/plain": [
       "<contextlib.ExitStack at 0x22acb4f9900>"
      ]
     },
     "execution_count": 22,
     "metadata": {},
     "output_type": "execute_result"
    }
   ],
   "source": [
    "import matplotlib.pyplot as plt\n",
    "import matplotlib.animation as animation\n",
    "import numpy as np\n",
    "from barnes_hut.BHTree import Tracker, Body\n",
    "\n",
    "plt.style.use('dark_background')\n",
    "plt.rcParams[\"animation.html\"] = \"jshtml\"\n",
    "plt.rcParams['figure.dpi'] = 150  \n",
    "plt.rcParams['animation.embed_limit'] = 2**128\n",
    "plt.ioff()"
   ]
  },
  {
   "cell_type": "code",
   "execution_count": 23,
   "metadata": {},
   "outputs": [
    {
     "data": {
      "text/plain": [
       "[(149600000000.0, 0.0),\n",
       " (227900000000.0, 0.0),\n",
       " (57900000000.0, 0.0),\n",
       " (0.0, 0.0),\n",
       " (108200000000.0, 0.0)]"
      ]
     },
     "execution_count": 23,
     "metadata": {},
     "output_type": "execute_result"
    }
   ],
   "source": [
    "SIZE = np.float64(2.5e12)\n",
    "BODIES = [Body(1.4960e+11 + 0j,  0 + 2.9800e+04j,  5.9740e+24),\n",
    "          Body(2.2790e+11 + 0j, 0 + 2.4100e+04j, 6.4190e+23),\n",
    "          Body(5.7900e+10 + 0j, 0 + 4.7900e+04j, 3.3020e+23),\n",
    "          Body(0, 0, 1.9890e+30),\n",
    "          Body(1.0820e+11, 3.5000e+04j, 4.8690e+24)]\n",
    "\n",
    "T = Tracker(BODIES, SIZE, dt=10000)\n",
    "data = T.get_all()\n",
    "list(zip(data.real, data.imag))"
   ]
  },
  {
   "cell_type": "code",
   "execution_count": 24,
   "metadata": {},
   "outputs": [],
   "source": [
    "SIZE = np.float64(2.5e12)\n",
    "BODIES = [Body(1.4960e+11 + 0j,  0 + 2.9800e+04j,  5.9740e+24),\n",
    "          Body(2.2790e+11 + 0j, 0 + 2.4100e+04j, 6.4190e+23),\n",
    "          Body(5.7900e+10 + 0j, 0 + 4.7900e+04j, 3.3020e+23),\n",
    "          Body(0, 0, 1.9890e+30),\n",
    "          Body(1.0820e+11, 3.5000e+04j, 4.8690e+24)]\n",
    "\n",
    "T = Tracker(BODIES, SIZE, dt=2500)\n",
    "\n",
    "fig = plt.figure()\n",
    "axes = plt.axes(xlim=(-SIZE / 4, SIZE / 4), ylim=(-SIZE / 4, SIZE / 4))\n",
    "pic = axes.scatter([], [])\n",
    "plt.axis('off')\n",
    "\n",
    "def init():\n",
    "    return pic,\n",
    "\n",
    "def animate(i):\n",
    "    T.update()\n",
    "    data = T.get_all()\n",
    "    pic.set_offsets(list(zip(data.real, data.imag)))\n",
    "    return pic,\n",
    "\n",
    "animation.FuncAnimation(fig, animate, init_func=init, frames=100000, interval=100, blit=True)"
   ]
  }
 ],
 "metadata": {
  "kernelspec": {
   "display_name": "Python 3",
   "language": "python",
   "name": "python3"
  },
  "language_info": {
   "codemirror_mode": {
    "name": "ipython",
    "version": 3
   },
   "file_extension": ".py",
   "mimetype": "text/x-python",
   "name": "python",
   "nbconvert_exporter": "python",
   "pygments_lexer": "ipython3",
   "version": "3.10.11"
  },
  "orig_nbformat": 4
 },
 "nbformat": 4,
 "nbformat_minor": 2
}
